{
  "cells": [
    {
      "cell_type": "code",
      "execution_count": 1,
      "metadata": {
        "id": "A6-RIPOXOR7S"
      },
      "outputs": [],
      "source": [
        "%%capture\n",
        "!pip install gpt4all\n",
        "import gpt4all\n",
        "model = gpt4all.GPT4All(\"ggml-gpt4all-j-v1.3-groovy.bin\")\n",
        "# model.chat_completion() doc: https://docs.gpt4all.io/gpt4all_python.html#gpt4all.gpt4all.GPT4All.chat_completion\n",
        "# other documentation: https://github.com/nomic-ai/gpt4all/blob/main/gpt4all-bindings/python/docs/gpt4all_python.md"
      ]
    },
    {
      "cell_type": "code",
      "source": [
        "def print_response(prompt: str) -> str:\n",
        "  messages = [{'role': 'user', 'content': prompt}]\n",
        "  response = model.chat_completion(messages)\n",
        "  print(response)\n",
        "  # print(response.get('choices',[{'message':{'content':''}}])[0]['message']['content'])"
      ],
      "metadata": {
        "id": "FEkje92AnaL-"
      },
      "execution_count": 2,
      "outputs": []
    },
    {
      "cell_type": "code",
      "source": [
        "print_response(\"\"\"Your task is to indicate how similar the student answer is to the teacher answer. Only say \"not similar at all\", or \"similar\", or \"exact match\", don't say anything else.\n",
        "\n",
        "# Teacher answer:\n",
        "Purple.\n",
        "\n",
        "# Student answer:\n",
        "A colour.\n",
        "\"\"\")"
      ],
      "metadata": {
        "id": "quFK9hebiHqN",
        "colab": {
          "base_uri": "https://localhost:8080/"
        },
        "outputId": "69737c05-4f7a-40e9-d4a2-ffcea94753ec"
      },
      "execution_count": 3,
      "outputs": [
        {
          "output_type": "stream",
          "name": "stdout",
          "text": [
            "### Instruction: \n",
            "            The prompt below is a question to answer, a task to complete, or a conversation \n",
            "            to respond to; decide which and write an appropriate response.\n",
            "            \n",
            "### Prompt: \n",
            "Your task is to indicate how similar the student answer is to the teacher answer. Only say \"not similar at all\", or \"similar\", or \"exact match\", don't say anything else.\n",
            "\n",
            "# Teacher answer:\n",
            "Purple.\n",
            "\n",
            "# Student answer:\n",
            "A colour.\n",
            "\n",
            "### Response:\n",
            " \n",
            "Not similar at all.\n",
            "{'model': 'ggml-gpt4all-j-v1.3-groovy', 'usage': {'prompt_tokens': 452, 'completion_tokens': 21, 'total_tokens': 473}, 'choices': [{'message': {'role': 'assistant', 'content': ' \\nNot similar at all.'}}]}\n"
          ]
        }
      ]
    }
  ],
  "metadata": {
    "colab": {
      "provenance": [],
      "gpuClass": "premium"
    },
    "gpuClass": "premium",
    "kernelspec": {
      "display_name": "Python 3",
      "name": "python3"
    },
    "language_info": {
      "name": "python"
    }
  },
  "nbformat": 4,
  "nbformat_minor": 0
}